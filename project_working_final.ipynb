{
  "nbformat": 4,
  "nbformat_minor": 0,
  "metadata": {
    "colab": {
      "name": "project_working.ipynb",
      "provenance": [],
      "collapsed_sections": []
    },
    "kernelspec": {
      "name": "python3",
      "display_name": "Python 3"
    },
    "language_info": {
      "name": "python"
    }
  },
  "cells": [
    {
      "cell_type": "code",
      "metadata": {
        "id": "KJIDrGpvGztA"
      },
      "source": [
        "import numpy as np\n",
        "np.random.seed(10)\n",
        "def clamp(num, min_value, max_value):\n",
        "   return max(min(num, max_value), min_value)\n",
        "\n",
        "def k(u,v):\n",
        "  return (np.pi - np.arccos(clamp(u.T@v,-1,1)))/(2*np.pi)\n",
        "def kk(u,v):\n",
        "  return ((1/(2*np.pi))/(np.sqrt(1-clamp((u.T@v),-1+1e-10, 1-1e-10)**2)))*v\n",
        "\n",
        "def step(d,m,lr,niter, orthogonal_case = 0):\n",
        "  if (orthogonal_case==0):\n",
        "    U=np.random.randn(d,m)\n",
        "    U = U / np.linalg.norm(U, ord=2, axis=0, keepdims=True)\n",
        "    V=np.random.randn(d,m)\n",
        "    V = V / np.linalg.norm(V, ord=2, axis=0, keepdims=True)\n",
        "  else:\n",
        "    U=np.eye(d,m)\n",
        "    V=np.eye(d,m,-m)\n",
        "  Vs = []\n",
        "  obj = np.zeros((niter))\n",
        "  grad = np.zeros((d,m))\n",
        "  for t in range(niter):\n",
        "    Vs.append(V)\n",
        "    obj[t] = sum([k(U[:,i], U[:,j])/2 + k(V[:,i], V[:,j])/2 - k(U[:,i], V[:,j]) for i in range(m) for j in range(m)])\n",
        "    \"\"\"\n",
        "    for i in range(m):\n",
        "      for j in range(m):\n",
        "        obj[t] = obj[t] + k(U[:,i], U[:,j])/2 + k(V[:,i], V[:,j])/2 - k(U[:,i], V[:,j])\n",
        "\n",
        "    for i in range(m):\n",
        "      for j in range(m):\n",
        "        if (i != j):\n",
        "          grad[:,i] += kk(V[:,i], V[:,j]) \n",
        "        grad[:,i] -= kk(V[:,i], U[:,j])\n",
        "    \"\"\"\n",
        "    for i in range(m):\n",
        "      grad[:,i] = sum([kk(V[:,i], V[:,j]) for j in range(m) if j!=i]) - sum([kk(V[:,i], U[:,j]) for j in range(m)])\n",
        "\n",
        "    V = V-lr*grad\n",
        "    V = V / np.linalg.norm(V, ord=2, axis=0, keepdims=True)\n",
        "  return obj, Vs, U\n"
      ],
      "execution_count": null,
      "outputs": []
    },
    {
      "cell_type": "code",
      "metadata": {
        "id": "W6i0ZJ5uNamB"
      },
      "source": [
        "d = 30\n",
        "m = 4\n",
        "lr = 0.5\n",
        "niter = 20000\n",
        "orthogonal_case = 1\n",
        "obj, Vs, U = step(d, m, lr, niter, orthogonal_case)\n",
        "obj2, Vs2, U2 = step(d, m, lr, niter, not(orthogonal_case))"
      ],
      "execution_count": null,
      "outputs": []
    },
    {
      "cell_type": "code",
      "metadata": {
        "colab": {
          "base_uri": "https://localhost:8080/",
          "height": 316
        },
        "id": "JDnee3qaNjjL",
        "outputId": "eb3f9dd0-3197-4593-9300-c947eaef83e7"
      },
      "source": [
        "import matplotlib.pyplot as plt \n",
        "plt.title(f\"lr = {lr}, d = {d}, m = {m}, num_ite = {niter}\")\n",
        "plt.yscale('log')\n",
        "plt.xscale('log')\n",
        "plt.ylabel(\"Expected loss\")\n",
        "plt.xlabel(\"Iteration\")\n",
        "plt.plot(obj)\n",
        "plt.plot(obj2)\n",
        "plt.legend([\"Normal random initialization.\", \"Orthogonal initialization.\"], loc=4)"
      ],
      "execution_count": null,
      "outputs": [
        {
          "output_type": "execute_result",
          "data": {
            "text/plain": [
              "<matplotlib.legend.Legend at 0x7f9b8efc2f90>"
            ]
          },
          "metadata": {},
          "execution_count": 25
        },
        {
          "output_type": "display_data",
          "data": {
            "image/png": "[encoded data removed]",
            "text/plain": [
              "<Figure size 432x288 with 1 Axes>"
            ]
          },
          "metadata": {
            "needs_background": "light"
          }
        }
      ]
    },
    {
      "cell_type": "code",
      "metadata": {
        "colab": {
          "base_uri": "https://localhost:8080/"
        },
        "id": "2wVPP3Wmqam2",
        "outputId": "065cb80a-bd8a-4f16-9f47-fef9c1c1f1df"
      },
      "source": [
        "obj[-1]"
      ],
      "execution_count": null,
      "outputs": [
        {
          "output_type": "execute_result",
          "data": {
            "text/plain": [
              "0.18211951451273825"
            ]
          },
          "metadata": {},
          "execution_count": 6
        }
      ]
    },
    {
      "cell_type": "code",
      "metadata": {
        "colab": {
          "base_uri": "https://localhost:8080/"
        },
        "id": "U_AMyF7sT6z5",
        "outputId": "39f89877-2e0f-4265-e858-46aee7da65fb"
      },
      "source": [
        "Vs[-1]"
      ],
      "execution_count": null,
      "outputs": [
        {
          "output_type": "execute_result",
          "data": {
            "text/plain": [
              "array([[ 0.246966  , -0.24696813,  0.35082168],\n",
              "       [-0.36075758,  0.36075292, -0.16450754],\n",
              "       [-0.19106919,  0.1910678 , -0.11266519],\n",
              "       [-0.43436104,  0.43436024,  0.14324856],\n",
              "       [-0.26418303,  0.26418495,  0.09782781],\n",
              "       [-0.04139579,  0.04140093,  0.19288616],\n",
              "       [ 0.36086967, -0.36087619,  0.61695364],\n",
              "       [-0.60929556,  0.60929421, -0.0692375 ],\n",
              "       [-0.07464655,  0.07463783, -0.0151848 ],\n",
              "       [-0.07168281,  0.07168516, -0.61985181]])"
            ]
          },
          "metadata": {},
          "execution_count": 39
        }
      ]
    },
    {
      "cell_type": "code",
      "metadata": {
        "colab": {
          "base_uri": "https://localhost:8080/"
        },
        "id": "k2iKG0kAhELF",
        "outputId": "72fd910d-9dc8-4078-9628-c985c25e1db6"
      },
      "source": [
        "U"
      ],
      "execution_count": null,
      "outputs": [
        {
          "output_type": "execute_result",
          "data": {
            "text/plain": [
              "array([[-0.06679795, -0.13268078,  0.35082277],\n",
              "       [-0.20075727, -0.02145253, -0.16450351],\n",
              "       [ 0.3009828 , -0.37513312, -0.11266357],\n",
              "       [-0.0350718 ,  0.0844529 ,  0.14324713],\n",
              "       [-0.06208192,  0.2615574 ,  0.09782446],\n",
              "       [ 0.70993375, -0.39887134,  0.19288068],\n",
              "       [-0.30068063, -0.21103117,  0.61695787],\n",
              "       [ 0.50197634, -0.49086298, -0.06923735],\n",
              "       [-0.01894417, -0.56372522, -0.01517636],\n",
              "       [ 0.11316276,  0.05745515, -0.61985113]])"
            ]
          },
          "metadata": {},
          "execution_count": 38
        }
      ]
    },
    {
      "cell_type": "code",
      "metadata": {
        "id": "Zd5AzMQTkPBo",
        "colab": {
          "base_uri": "https://localhost:8080/"
        },
        "outputId": "74b50411-d934-4f83-adf9-65bf6563439a"
      },
      "source": [
        "np.eye(d,m,-m)"
      ],
      "execution_count": null,
      "outputs": [
        {
          "output_type": "execute_result",
          "data": {
            "text/plain": [
              "array([[0., 0., 0.],\n",
              "       [0., 0., 0.],\n",
              "       [0., 0., 0.],\n",
              "       [1., 0., 0.],\n",
              "       [0., 1., 0.],\n",
              "       [0., 0., 1.],\n",
              "       [0., 0., 0.],\n",
              "       [0., 0., 0.],\n",
              "       [0., 0., 0.],\n",
              "       [0., 0., 0.]])"
            ]
          },
          "metadata": {},
          "execution_count": 28
        }
      ]
    },
    {
      "cell_type": "code",
      "metadata": {
        "id": "FV2RkPT0b537"
      },
      "source": [
        ""
      ],
      "execution_count": null,
      "outputs": []
    }
  ]
}